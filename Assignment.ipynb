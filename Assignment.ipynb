{
 "cells": [
  {
   "cell_type": "code",
   "execution_count": 1,
   "id": "75b95cca-0a77-40e0-84b7-bbf2747698c8",
   "metadata": {},
   "outputs": [],
   "source": [
    "# question -2"
   ]
  },
  {
   "cell_type": "code",
   "execution_count": 2,
   "id": "7d4ab866-cacb-4212-8735-2141e82040b4",
   "metadata": {},
   "outputs": [],
   "source": [
    "var1=''"
   ]
  },
  {
   "cell_type": "code",
   "execution_count": 3,
   "id": "f251f96e-3fa5-4f37-b0c1-4e345330cbfe",
   "metadata": {},
   "outputs": [
    {
     "data": {
      "text/plain": [
       "str"
      ]
     },
     "execution_count": 3,
     "metadata": {},
     "output_type": "execute_result"
    }
   ],
   "source": [
    "type(var1)"
   ]
  },
  {
   "cell_type": "code",
   "execution_count": 4,
   "id": "c7b664aa-5f5d-46e1-a660-ca96373f8309",
   "metadata": {},
   "outputs": [],
   "source": [
    "var2='[DS,ML,Python]'"
   ]
  },
  {
   "cell_type": "code",
   "execution_count": 5,
   "id": "92c03524-6e7d-4bda-9733-f7c5f2e78016",
   "metadata": {},
   "outputs": [
    {
     "data": {
      "text/plain": [
       "str"
      ]
     },
     "execution_count": 5,
     "metadata": {},
     "output_type": "execute_result"
    }
   ],
   "source": [
    "type(var2)"
   ]
  },
  {
   "cell_type": "code",
   "execution_count": 6,
   "id": "4bcbfcb1-6b79-4f3c-bbec-88e6ffeb6e6c",
   "metadata": {},
   "outputs": [],
   "source": [
    "var3=['DS','ML','Python']"
   ]
  },
  {
   "cell_type": "code",
   "execution_count": 7,
   "id": "6edc7c04-e1e4-4392-9862-926e069380d3",
   "metadata": {},
   "outputs": [
    {
     "data": {
      "text/plain": [
       "list"
      ]
     },
     "execution_count": 7,
     "metadata": {},
     "output_type": "execute_result"
    }
   ],
   "source": [
    "type(var3)"
   ]
  },
  {
   "cell_type": "code",
   "execution_count": 8,
   "id": "e230c511-4d00-463f-914d-c83f36bb99ef",
   "metadata": {},
   "outputs": [],
   "source": [
    "var4=1"
   ]
  },
  {
   "cell_type": "code",
   "execution_count": 9,
   "id": "f97f7c69-a4db-4fb4-bb03-92df9fff2ee4",
   "metadata": {},
   "outputs": [
    {
     "data": {
      "text/plain": [
       "int"
      ]
     },
     "execution_count": 9,
     "metadata": {},
     "output_type": "execute_result"
    }
   ],
   "source": [
    "type(var4)"
   ]
  },
  {
   "cell_type": "code",
   "execution_count": 10,
   "id": "efb38df3-1040-41d7-b758-1d7e27544efd",
   "metadata": {},
   "outputs": [],
   "source": [
    "# question 3"
   ]
  },
  {
   "cell_type": "code",
   "execution_count": 11,
   "id": "5381e5b8-8e68-4a92-a872-057aaf3ff3e7",
   "metadata": {},
   "outputs": [
    {
     "data": {
      "text/plain": [
       "2.0"
      ]
     },
     "execution_count": 11,
     "metadata": {},
     "output_type": "execute_result"
    }
   ],
   "source": [
    "4/2"
   ]
  },
  {
   "cell_type": "code",
   "execution_count": 12,
   "id": "fa2932a1-4f22-4f5f-9ac2-5446f6cfce38",
   "metadata": {},
   "outputs": [
    {
     "data": {
      "text/plain": [
       "0"
      ]
     },
     "execution_count": 12,
     "metadata": {},
     "output_type": "execute_result"
    }
   ],
   "source": [
    "4%2"
   ]
  },
  {
   "cell_type": "code",
   "execution_count": 13,
   "id": "c1df7fe9-6b78-46fd-8da5-c99835b30fba",
   "metadata": {},
   "outputs": [
    {
     "data": {
      "text/plain": [
       "0"
      ]
     },
     "execution_count": 13,
     "metadata": {},
     "output_type": "execute_result"
    }
   ],
   "source": [
    "3//4"
   ]
  },
  {
   "cell_type": "code",
   "execution_count": 14,
   "id": "a968dc36-a18a-43a7-bdaf-ddd253fbb4cc",
   "metadata": {},
   "outputs": [],
   "source": [
    "# / gives quotient value,% gives us ramainder value,// floor division gives us quotient but dump the decimal point"
   ]
  },
  {
   "cell_type": "code",
   "execution_count": 15,
   "id": "92f0436a-b5ee-4aee-b741-cf60d17928c2",
   "metadata": {},
   "outputs": [],
   "source": [
    "# question 4"
   ]
  },
  {
   "cell_type": "code",
   "execution_count": 18,
   "id": "732638ca-39eb-4fa9-b0c9-dc2660ec4076",
   "metadata": {},
   "outputs": [
    {
     "name": "stdout",
     "output_type": "stream",
     "text": [
      "1 <class 'int'>\n",
      "2 <class 'int'>\n",
      "3 <class 'int'>\n",
      "4 <class 'int'>\n",
      "Anurag <class 'str'>\n",
      "234 <class 'int'>\n",
      "asd12 <class 'str'>\n",
      "2.4 <class 'float'>\n",
      "5.5 <class 'float'>\n",
      "7.89 <class 'float'>\n"
     ]
    }
   ],
   "source": [
    "l=[1,2,3,4,\"Anurag\",234,'asd12',2.4,5.5,7.89]\n",
    "for a in l :\n",
    "    print(a,type(a))"
   ]
  },
  {
   "cell_type": "code",
   "execution_count": 19,
   "id": "781d2385-1fd4-4aac-bcd9-102b1807e924",
   "metadata": {},
   "outputs": [],
   "source": [
    "# question 5"
   ]
  },
  {
   "cell_type": "code",
   "execution_count": 23,
   "id": "1bc5a3d6-cc9e-4751-af69-3674d6707c74",
   "metadata": {},
   "outputs": [
    {
     "name": "stdout",
     "output_type": "stream",
     "text": [
      "1\n",
      "2\n",
      "1.3333333333333333\n"
     ]
    }
   ],
   "source": [
    "n=4\n",
    "i=1\n",
    "while n%i==0 :\n",
    "    print(i)\n",
    "    i=i+1\n",
    "else : \n",
    "    print(n/i)\n"
   ]
  },
  {
   "cell_type": "code",
   "execution_count": 24,
   "id": "5bc50a92-06af-4b3a-bed9-0c92a800107b",
   "metadata": {},
   "outputs": [],
   "source": [
    "# question 6"
   ]
  },
  {
   "cell_type": "code",
   "execution_count": 37,
   "id": "f5ec37fd-5511-4539-8865-8dc0dc4e23da",
   "metadata": {},
   "outputs": [
    {
     "name": "stdout",
     "output_type": "stream",
     "text": [
      "1\n",
      "Not divisible\n",
      "2\n",
      "Not divisible\n",
      "3\n",
      "divisible\n",
      "4\n",
      "Not divisible\n",
      "5\n",
      "Not divisible\n",
      "6\n",
      "divisible\n",
      "7\n",
      "Not divisible\n",
      "8\n",
      "Not divisible\n",
      "9\n",
      "divisible\n",
      "10\n",
      "Not divisible\n",
      "11\n",
      "Not divisible\n",
      "12\n",
      "divisible\n",
      "13\n",
      "Not divisible\n",
      "14\n",
      "Not divisible\n",
      "15\n",
      "divisible\n",
      "16\n",
      "Not divisible\n",
      "17\n",
      "Not divisible\n",
      "18\n",
      "divisible\n",
      "19\n",
      "Not divisible\n",
      "20\n",
      "Not divisible\n",
      "21\n",
      "divisible\n",
      "22\n",
      "Not divisible\n",
      "23\n",
      "Not divisible\n",
      "24\n",
      "divisible\n",
      "25\n",
      "Not divisible\n"
     ]
    }
   ],
   "source": [
    "l=[1,2,3,4,5,6,7,8,9,10,11,12,13,14,15,16,17,18,19,20,21,22,23,24,25]\n",
    "\n",
    "for a in l :\n",
    "    print(a)\n",
    "    if a % 3==0 :\n",
    "        print(\"divisible\")\n",
    "    else :\n",
    "        print(\"Not divisible\")\n"
   ]
  },
  {
   "cell_type": "code",
   "execution_count": 38,
   "id": "b8d30726-6e58-4ce9-b7a2-aa67e687b9ca",
   "metadata": {},
   "outputs": [],
   "source": [
    "# question 7"
   ]
  },
  {
   "cell_type": "code",
   "execution_count": 39,
   "id": "1e767b19-abb7-4e18-9545-52700e47d5e4",
   "metadata": {},
   "outputs": [
    {
     "data": {
      "text/plain": [
       "[1, 4, 3, 4]"
      ]
     },
     "execution_count": 39,
     "metadata": {},
     "output_type": "execute_result"
    }
   ],
   "source": [
    "# mutable- which allows to change data of a particular index in list items\n",
    "l=[1,2,3,4]\n",
    "l[1]=4\n",
    "l"
   ]
  },
  {
   "cell_type": "code",
   "execution_count": 40,
   "id": "123bfc58-ecf2-41a3-a8b6-10b27b558473",
   "metadata": {},
   "outputs": [
    {
     "ename": "NameError",
     "evalue": "name 'p' is not defined",
     "output_type": "error",
     "traceback": [
      "\u001b[0;31m---------------------------------------------------------------------------\u001b[0m",
      "\u001b[0;31mNameError\u001b[0m                                 Traceback (most recent call last)",
      "Cell \u001b[0;32mIn[40], line 3\u001b[0m\n\u001b[1;32m      1\u001b[0m \u001b[38;5;66;03m# immutable- which does not allow to change data of a particular index of a string\u001b[39;00m\n\u001b[1;32m      2\u001b[0m a \u001b[38;5;241m=\u001b[39m \u001b[38;5;124m\"\u001b[39m\u001b[38;5;124mraj\u001b[39m\u001b[38;5;124m\"\u001b[39m\n\u001b[0;32m----> 3\u001b[0m a[\u001b[38;5;241m1\u001b[39m]\u001b[38;5;241m=\u001b[39m\u001b[43mp\u001b[49m\n",
      "\u001b[0;31mNameError\u001b[0m: name 'p' is not defined"
     ]
    }
   ],
   "source": [
    "# immutable- which does not allow to change data of a particular index of a string\n",
    "a = \"raj\"\n",
    "a[1]=p"
   ]
  },
  {
   "cell_type": "code",
   "execution_count": 41,
   "id": "1eee7b75-9171-41a5-bb61-011ce7bfcffc",
   "metadata": {},
   "outputs": [],
   "source": [
    "# question-1"
   ]
  },
  {
   "cell_type": "code",
   "execution_count": null,
   "id": "dccb48d4-f386-4b4c-8dc4-ebb515bf8741",
   "metadata": {},
   "outputs": [],
   "source": [
    "s = \"Anurag\"\n",
    "l = [1,2,\"anu\",2.43]\n",
    "a = 45.76\n",
    "T = (1,2,3,\"anurag\",[4,7.8,\"shekher\"])"
   ]
  }
 ],
 "metadata": {
  "kernelspec": {
   "display_name": "Python 3 (ipykernel)",
   "language": "python",
   "name": "python3"
  },
  "language_info": {
   "codemirror_mode": {
    "name": "ipython",
    "version": 3
   },
   "file_extension": ".py",
   "mimetype": "text/x-python",
   "name": "python",
   "nbconvert_exporter": "python",
   "pygments_lexer": "ipython3",
   "version": "3.10.8"
  }
 },
 "nbformat": 4,
 "nbformat_minor": 5
}
