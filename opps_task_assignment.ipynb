{
 "cells": [
  {
   "cell_type": "markdown",
   "id": "4f3efd03-de80-40ce-a330-2f4abad90311",
   "metadata": {},
   "source": [
    "ans - 1"
   ]
  },
  {
   "cell_type": "code",
   "execution_count": 5,
   "id": "dce645a1-99e1-4a66-ac4a-cbb50b8ec96e",
   "metadata": {},
   "outputs": [],
   "source": [
    "class vehicle:\n",
    "    def __init__(self,name_of_vehicle,max_speed,average_of_vehicle):\n",
    "        self.nameofvehicle = name_of_vehicle\n",
    "        self.maxspeed = max_speed\n",
    "        self.averageofvehicle = average_of_vehicle"
   ]
  },
  {
   "cell_type": "code",
   "execution_count": 6,
   "id": "a95d0626-44ca-4fbe-bf81-e050adb424c7",
   "metadata": {},
   "outputs": [],
   "source": [
    "v = vehicle(\"activa\",90,60)"
   ]
  },
  {
   "cell_type": "code",
   "execution_count": 7,
   "id": "0795f011-c8cb-4073-be14-57d5ded9be43",
   "metadata": {},
   "outputs": [
    {
     "data": {
      "text/plain": [
       "'activa'"
      ]
     },
     "execution_count": 7,
     "metadata": {},
     "output_type": "execute_result"
    }
   ],
   "source": [
    "v.nameofvehicle"
   ]
  },
  {
   "cell_type": "code",
   "execution_count": 8,
   "id": "99ce65b0-acbd-4e2b-839b-c8cf6ef44584",
   "metadata": {},
   "outputs": [
    {
     "data": {
      "text/plain": [
       "90"
      ]
     },
     "execution_count": 8,
     "metadata": {},
     "output_type": "execute_result"
    }
   ],
   "source": [
    "v.maxspeed"
   ]
  },
  {
   "cell_type": "code",
   "execution_count": 10,
   "id": "b4da78ce-8257-4e12-8057-517bfd085102",
   "metadata": {},
   "outputs": [
    {
     "data": {
      "text/plain": [
       "60"
      ]
     },
     "execution_count": 10,
     "metadata": {},
     "output_type": "execute_result"
    }
   ],
   "source": [
    "v.averageofvehicle"
   ]
  },
  {
   "cell_type": "markdown",
   "id": "4c09d2ef-94cc-4d30-b90b-61123996b1bc",
   "metadata": {},
   "source": [
    "answer = 2"
   ]
  },
  {
   "cell_type": "code",
   "execution_count": 29,
   "id": "68197f61-fd42-4964-9dba-fdb1d136992b",
   "metadata": {},
   "outputs": [],
   "source": [
    "class car(vehicle):\n",
    "    def seating_capacity(self,capacity):\n",
    "        self.capacity = capacity\n",
    "        return self.capacity , self.nameofvehicle"
   ]
  },
  {
   "cell_type": "code",
   "execution_count": 30,
   "id": "e47fedc8-0541-4065-b1b0-3f108e9de2db",
   "metadata": {},
   "outputs": [],
   "source": [
    "c = car('hero',60,55)"
   ]
  },
  {
   "cell_type": "code",
   "execution_count": 31,
   "id": "c95403c0-5f98-4ea9-bbd0-1f22736f0a23",
   "metadata": {},
   "outputs": [
    {
     "data": {
      "text/plain": [
       "'hero'"
      ]
     },
     "execution_count": 31,
     "metadata": {},
     "output_type": "execute_result"
    }
   ],
   "source": [
    "c.nameofvehicle"
   ]
  },
  {
   "cell_type": "code",
   "execution_count": 34,
   "id": "3559596c-78c6-4981-8547-6712c25428b0",
   "metadata": {},
   "outputs": [
    {
     "data": {
      "text/plain": [
       "(2, 'hero')"
      ]
     },
     "execution_count": 34,
     "metadata": {},
     "output_type": "execute_result"
    }
   ],
   "source": [
    "c.seating_capacity(2)"
   ]
  },
  {
   "cell_type": "markdown",
   "id": "d1637fff-e6e6-49ac-ae1b-4e379cbbb684",
   "metadata": {},
   "source": [
    "answer = 3"
   ]
  },
  {
   "cell_type": "code",
   "execution_count": 35,
   "id": "71b3de1d-e4f4-44e5-b4f4-96b32e915210",
   "metadata": {},
   "outputs": [],
   "source": [
    "# multiple inheritance = when a child class inherits properties of its both the parents then this phenomenon is known as multiple inheritance"
   ]
  },
  {
   "cell_type": "code",
   "execution_count": 1,
   "id": "a24ef3f1-2cda-4d8c-b0e8-49c5412fad74",
   "metadata": {},
   "outputs": [],
   "source": [
    "class acting:\n",
    "    def student_a(self):\n",
    "        return \"i am a excellent actor\""
   ]
  },
  {
   "cell_type": "code",
   "execution_count": 2,
   "id": "1e70cf76-9bdf-4e74-99c9-de9e86cc9b45",
   "metadata": {},
   "outputs": [],
   "source": [
    "class dancing:\n",
    "    def student_b(self):\n",
    "        return \"i am great dancer\""
   ]
  },
  {
   "cell_type": "code",
   "execution_count": 3,
   "id": "ba1bda7d-8f2e-4d2a-b711-d725afef8584",
   "metadata": {},
   "outputs": [],
   "source": [
    "class poet(acting,dancing):\n",
    "    pass"
   ]
  },
  {
   "cell_type": "code",
   "execution_count": 4,
   "id": "a873be99-9186-40f6-8274-e1c8f5b98938",
   "metadata": {},
   "outputs": [],
   "source": [
    "p = poet()"
   ]
  },
  {
   "cell_type": "code",
   "execution_count": 6,
   "id": "b90d9ae8-a7fc-4eb3-ac3d-695ad70fa1ac",
   "metadata": {},
   "outputs": [
    {
     "data": {
      "text/plain": [
       "'i am a excellent actor'"
      ]
     },
     "execution_count": 6,
     "metadata": {},
     "output_type": "execute_result"
    }
   ],
   "source": [
    "p.student_a()"
   ]
  },
  {
   "cell_type": "code",
   "execution_count": 7,
   "id": "78e44996-16ab-406c-bcce-004fe88dd9d7",
   "metadata": {},
   "outputs": [
    {
     "data": {
      "text/plain": [
       "'i am great dancer'"
      ]
     },
     "execution_count": 7,
     "metadata": {},
     "output_type": "execute_result"
    }
   ],
   "source": [
    "p.student_b()"
   ]
  },
  {
   "cell_type": "markdown",
   "id": "7893fa09-fdbe-4900-a3d7-681f44f3c05f",
   "metadata": {},
   "source": [
    "ans=4"
   ]
  },
  {
   "cell_type": "markdown",
   "id": "ebb0255a-3c9f-426e-88f9-5e92d866bc73",
   "metadata": {},
   "source": [
    "getter = this is the method which is used to retained the set value from class"
   ]
  },
  {
   "cell_type": "markdown",
   "id": "9d3fb27c-bb06-439b-a43d-7f3009dac143",
   "metadata": {},
   "source": [
    "setter = this method is used to set the value in a class"
   ]
  },
  {
   "cell_type": "code",
   "execution_count": 3,
   "id": "15612612-7923-48ec-895b-cbe14eca5ad0",
   "metadata": {},
   "outputs": [],
   "source": [
    "class flower:\n",
    "    def __init__(self,name):\n",
    "        self.name = name\n",
    "        \n",
    "    def get_flo(self):\n",
    "        return self.name\n",
    "    \n",
    "    def set_flo(self,name):\n",
    "        self.name = name"
   ]
  },
  {
   "cell_type": "code",
   "execution_count": 4,
   "id": "a6d0f0e1-8d8e-4e54-9fa7-1478e9d46bcf",
   "metadata": {},
   "outputs": [],
   "source": [
    "fu = flower(\"marigold\")"
   ]
  },
  {
   "cell_type": "code",
   "execution_count": 5,
   "id": "647ced6a-358a-4807-b903-3a81af017e9e",
   "metadata": {},
   "outputs": [],
   "source": [
    "fu.set_flo(\"lily\")"
   ]
  },
  {
   "cell_type": "code",
   "execution_count": 6,
   "id": "f6247f85-c2ea-47ab-aa64-098f3641b408",
   "metadata": {},
   "outputs": [
    {
     "data": {
      "text/plain": [
       "'lily'"
      ]
     },
     "execution_count": 6,
     "metadata": {},
     "output_type": "execute_result"
    }
   ],
   "source": [
    "fu.get_flo()"
   ]
  },
  {
   "cell_type": "markdown",
   "id": "fb2976e1-cce2-490b-8ae1-26c966a5ef11",
   "metadata": {},
   "source": [
    "ans5"
   ]
  },
  {
   "cell_type": "markdown",
   "id": "6e6161d6-e517-4f9d-8d5d-cc068f4a04af",
   "metadata": {},
   "source": [
    "method overriding = when we have two different class with same method, it is the important feature of inheritance in python child class can change its function which is inherit by its parent class"
   ]
  },
  {
   "cell_type": "code",
   "execution_count": 15,
   "id": "5ad6145d-fd8a-4784-a68a-4b4593366f50",
   "metadata": {},
   "outputs": [],
   "source": [
    "class A :\n",
    "    def car(self):\n",
    "        return \"i have mercedes\""
   ]
  },
  {
   "cell_type": "code",
   "execution_count": 12,
   "id": "8612a55e-476d-478c-a610-3a29c6be5d76",
   "metadata": {},
   "outputs": [],
   "source": [
    "class b(A) :\n",
    "    def car(self):\n",
    "        return \"i have maruti\"\n"
   ]
  },
  {
   "cell_type": "code",
   "execution_count": 13,
   "id": "762c3c3a-dd12-43eb-9331-578c1c930d04",
   "metadata": {},
   "outputs": [],
   "source": [
    "bi = b()"
   ]
  },
  {
   "cell_type": "code",
   "execution_count": 14,
   "id": "1b56e210-12b2-48be-9d8a-c2b28f42f69a",
   "metadata": {},
   "outputs": [
    {
     "data": {
      "text/plain": [
       "'i have maruti'"
      ]
     },
     "execution_count": 14,
     "metadata": {},
     "output_type": "execute_result"
    }
   ],
   "source": [
    "bi.car()"
   ]
  },
  {
   "cell_type": "code",
   "execution_count": null,
   "id": "da8ddf7d-95b1-46a2-b3dd-bde10d69ac9e",
   "metadata": {},
   "outputs": [],
   "source": []
  }
 ],
 "metadata": {
  "kernelspec": {
   "display_name": "Python 3 (ipykernel)",
   "language": "python",
   "name": "python3"
  },
  "language_info": {
   "codemirror_mode": {
    "name": "ipython",
    "version": 3
   },
   "file_extension": ".py",
   "mimetype": "text/x-python",
   "name": "python",
   "nbconvert_exporter": "python",
   "pygments_lexer": "ipython3",
   "version": "3.10.8"
  }
 },
 "nbformat": 4,
 "nbformat_minor": 5
}
