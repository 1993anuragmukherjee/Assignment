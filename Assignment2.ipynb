{
 "cells": [
  {
   "cell_type": "code",
   "execution_count": 1,
   "id": "59fa0727-3048-4589-8499-7fd00efbfd56",
   "metadata": {},
   "outputs": [],
   "source": [
    "# answer-1"
   ]
  },
  {
   "cell_type": "code",
   "execution_count": 4,
   "id": "cb2c32ab-c07b-4451-8a7b-6fe5bc475924",
   "metadata": {},
   "outputs": [],
   "source": [
    "# we can use '#' as well as \"\"\" asd \"\"\"  for comment ,# is for single line comment and \"\"\" is used for multiline comment\n",
    "#\" ctrl+/\" is the shorcut key"
   ]
  },
  {
   "cell_type": "code",
   "execution_count": 5,
   "id": "b6637e73-1a10-4d92-a026-9d127e3eaf54",
   "metadata": {},
   "outputs": [],
   "source": [
    "#answer-2"
   ]
  },
  {
   "cell_type": "code",
   "execution_count": 6,
   "id": "06380fe8-6fdb-4ba6-a41c-09606f564550",
   "metadata": {},
   "outputs": [],
   "source": [
    "# variable are containers that can hold different values of different data types for ex-int , float , char etc."
   ]
  },
  {
   "cell_type": "code",
   "execution_count": 9,
   "id": "0ca56dd9-4f9b-4e64-9fdf-709e17ede021",
   "metadata": {},
   "outputs": [],
   "source": [
    "#answer-3"
   ]
  },
  {
   "cell_type": "code",
   "execution_count": 10,
   "id": "08d23d6e-ea69-4625-8a72-b79913da067d",
   "metadata": {},
   "outputs": [],
   "source": [
    "# by using type casting method we can convert one data type into another"
   ]
  },
  {
   "cell_type": "code",
   "execution_count": 11,
   "id": "c3a761b3-22a9-481f-bf41-fd529a682767",
   "metadata": {},
   "outputs": [],
   "source": [
    "# answer-5"
   ]
  },
  {
   "cell_type": "code",
   "execution_count": 12,
   "id": "5c3e33b5-e58e-4cd9-aef6-2e0ea892f963",
   "metadata": {},
   "outputs": [],
   "source": [
    "my_list = [1,2,3,4,5]"
   ]
  },
  {
   "cell_type": "code",
   "execution_count": 14,
   "id": "a37e6816-d773-4dc0-a98f-32702f60eb8f",
   "metadata": {},
   "outputs": [
    {
     "data": {
      "text/plain": [
       "[2, 3]"
      ]
     },
     "execution_count": 14,
     "metadata": {},
     "output_type": "execute_result"
    }
   ],
   "source": [
    "my_list[1:3:1]"
   ]
  },
  {
   "cell_type": "code",
   "execution_count": 15,
   "id": "eedfa6fc-b058-4d68-a3a2-700e168cda03",
   "metadata": {},
   "outputs": [],
   "source": [
    "# answer-6\n",
    "# complex number is a number having real as well as imaginary part\n",
    "# (1+2j) here 1 is real part while 2j is complex part , \n",
    "# in python we can right exactly (1+2j)"
   ]
  },
  {
   "cell_type": "code",
   "execution_count": 16,
   "id": "2c3ef1d8-d78b-4ef9-9a19-9f7091361724",
   "metadata": {},
   "outputs": [],
   "source": [
    "# answer-7"
   ]
  },
  {
   "cell_type": "code",
   "execution_count": 17,
   "id": "2df2bbca-d3e2-465e-a2de-25f417d509df",
   "metadata": {},
   "outputs": [],
   "source": [
    "age = 25"
   ]
  },
  {
   "cell_type": "code",
   "execution_count": 18,
   "id": "baee52e2-081c-457d-841b-af27ccfb5d1f",
   "metadata": {},
   "outputs": [
    {
     "data": {
      "text/plain": [
       "25"
      ]
     },
     "execution_count": 18,
     "metadata": {},
     "output_type": "execute_result"
    }
   ],
   "source": [
    "age"
   ]
  },
  {
   "cell_type": "code",
   "execution_count": 19,
   "id": "cb02171c-9306-4e22-b405-58651e2414eb",
   "metadata": {},
   "outputs": [],
   "source": [
    "# this is the correct way first we have to write the variable name then after the assignment operator we can \n",
    "# write our value on right hand side"
   ]
  },
  {
   "cell_type": "code",
   "execution_count": 20,
   "id": "f058bed7-5d21-4805-a6a0-9f2bb0814973",
   "metadata": {},
   "outputs": [],
   "source": [
    "# answer-8"
   ]
  },
  {
   "cell_type": "code",
   "execution_count": 21,
   "id": "acc3b25c-dce0-4cff-bb9a-334d45ea1582",
   "metadata": {},
   "outputs": [],
   "source": [
    "price = 9.99"
   ]
  },
  {
   "cell_type": "code",
   "execution_count": 22,
   "id": "dd34fddc-43e4-4e96-be88-4263046bc2e7",
   "metadata": {},
   "outputs": [
    {
     "data": {
      "text/plain": [
       "float"
      ]
     },
     "execution_count": 22,
     "metadata": {},
     "output_type": "execute_result"
    }
   ],
   "source": [
    "type(price)"
   ]
  },
  {
   "cell_type": "code",
   "execution_count": 23,
   "id": "0d172f17-1060-45d0-895f-91b09698646c",
   "metadata": {},
   "outputs": [],
   "source": [
    "# float type is the answer"
   ]
  },
  {
   "cell_type": "code",
   "execution_count": 24,
   "id": "448b6049-3842-47ee-8e7b-8ae6985719c1",
   "metadata": {},
   "outputs": [],
   "source": [
    "# answer-9"
   ]
  },
  {
   "cell_type": "code",
   "execution_count": 25,
   "id": "2e8ce733-ef09-455a-8c4c-20d7309c55e9",
   "metadata": {},
   "outputs": [
    {
     "name": "stdout",
     "output_type": "stream",
     "text": [
      "A\n",
      "n\n",
      "u\n",
      "r\n",
      "a\n",
      "g\n",
      " \n",
      "M\n",
      "u\n",
      "k\n",
      "h\n",
      "e\n",
      "r\n",
      "j\n",
      "e\n",
      "e\n"
     ]
    }
   ],
   "source": [
    "name = \"Anurag Mukherjee\"\n",
    "\n",
    "for i in name :\n",
    "    print(i)"
   ]
  },
  {
   "cell_type": "code",
   "execution_count": 26,
   "id": "e31feb06-3292-487d-aa9d-f2fd0ebba721",
   "metadata": {},
   "outputs": [],
   "source": [
    "# we can achieve it by for loop easily"
   ]
  },
  {
   "cell_type": "code",
   "execution_count": 27,
   "id": "2f4c1159-f38b-4a9e-9668-0f9dde89614a",
   "metadata": {},
   "outputs": [],
   "source": [
    "# answer-10"
   ]
  },
  {
   "cell_type": "code",
   "execution_count": 32,
   "id": "7e945ca4-5bbd-4a4a-8824-25017301bc58",
   "metadata": {},
   "outputs": [
    {
     "data": {
      "text/plain": [
       "'World'"
      ]
     },
     "execution_count": 32,
     "metadata": {},
     "output_type": "execute_result"
    }
   ],
   "source": [
    "a = \"Hello,World!\"\n",
    "a[6:11:1]"
   ]
  },
  {
   "cell_type": "code",
   "execution_count": 33,
   "id": "e46b5729-9004-4779-936b-a71cfcddc367",
   "metadata": {},
   "outputs": [],
   "source": [
    "# we can achieve it by slicing method"
   ]
  },
  {
   "cell_type": "code",
   "execution_count": 34,
   "id": "09ebb8f9-1c59-479e-8247-fa5a9353b8a7",
   "metadata": {},
   "outputs": [],
   "source": [
    "# answer-11"
   ]
  },
  {
   "cell_type": "code",
   "execution_count": 36,
   "id": "0e3540dd-7f7f-4bb7-8d2e-ff75d217b55e",
   "metadata": {},
   "outputs": [
    {
     "name": "stdout",
     "output_type": "stream",
     "text": [
      "i am a sudent\n"
     ]
    }
   ],
   "source": [
    "is_student = True\n",
    "\n",
    "if is_student == True :\n",
    "    print(\"i am a sudent\") \n",
    "else :\n",
    "        print(\"i am not a student\")"
   ]
  },
  {
   "cell_type": "code",
   "execution_count": null,
   "id": "888ca044-5d7e-4e46-a828-aae6b79f70bb",
   "metadata": {},
   "outputs": [],
   "source": []
  }
 ],
 "metadata": {
  "kernelspec": {
   "display_name": "Python 3 (ipykernel)",
   "language": "python",
   "name": "python3"
  },
  "language_info": {
   "codemirror_mode": {
    "name": "ipython",
    "version": 3
   },
   "file_extension": ".py",
   "mimetype": "text/x-python",
   "name": "python",
   "nbconvert_exporter": "python",
   "pygments_lexer": "ipython3",
   "version": "3.10.8"
  }
 },
 "nbformat": 4,
 "nbformat_minor": 5
}
